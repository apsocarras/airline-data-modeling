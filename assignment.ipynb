{
 "cells": [
  {
   "attachments": {},
   "cell_type": "markdown",
   "metadata": {},
   "source": [
    "#### Exercise 1: Create data model "
   ]
  },
  {
   "attachments": {},
   "cell_type": "markdown",
   "metadata": {},
   "source": [
    "![Data Model](img/data_model2.png)"
   ]
  },
  {
   "attachments": {},
   "cell_type": "markdown",
   "metadata": {},
   "source": [
    "#### Exercise 2: \n",
    "1. Load dimension tables  "
   ]
  },
  {
   "cell_type": "code",
   "execution_count": null,
   "metadata": {},
   "outputs": [],
   "source": [
    " \n",
    "import os\n",
    "import sys\n",
    "import pandas as pd\n",
    "from google.cloud import bigquery \n",
    " \n",
    "DATA_DIR = \"../data/\"\n",
    "DEFAULT_TICKET_FILE = os.path.join(DATA_DIR, \"tickets.json\")\n",
    "PROJECT_NAME = \"electric-glyph-372116\"\n",
    "DATASET_NAME = \"airlines\"\n",
    " \n",
    "# **** TABLE SCHEMAS ****\n",
    "## Dimension Tables\n",
    "TABLE_METADATA = {\n",
    "   'passengers_d': {\n",
    "       'table_name': 'passengers_d',\n",
    "       'schema': [\n",
    "           bigquery.SchemaField('sk_pass_id', 'STRING', mode='REQUIRED'),\n",
    "           bigquery.SchemaField('email', 'STRING', mode='REQUIRED'),\n",
    "           bigquery.SchemaField('first_name', 'STRING', mode='NULLABLE'),\n",
    "           bigquery.SchemaField('last_name', 'STRING', mode='NULLABLE'),\n",
    "           bigquery.SchemaField('gender', 'STRING', mode='NULLABLE'),\n",
    "           bigquery.SchemaField('birth_date', 'DATE', mode='NULLABLE'),\n",
    "           bigquery.SchemaField('street', 'STRING', mode='NULLABLE'),\n",
    "           bigquery.SchemaField('city', 'STRING', mode='NULLABLE'),\n",
    "           bigquery.SchemaField('zip', 'INTEGER', mode='NULLABLE'),\n",
    "           bigquery.SchemaField('state', 'STRING', mode='NULLABLE'),\n",
    "           bigquery.SchemaField('start_date', 'DATE', mode='NULLABLE'),\n",
    "           bigquery.SchemaField('end_date', 'DATE', mode='NULLABLE')\n",
    "       ]\n",
    "   }, 'airlines_d': {\n",
    "       'table_name': 'airlines_d',\n",
    "       'schema': [\n",
    "           bigquery.SchemaField('airline_id', 'STRING', mode='REQUIRED'),\n",
    "           bigquery.SchemaField('name', 'STRING', mode='NULLABLE'),\n",
    "           bigquery.SchemaField('icao', 'STRING', mode='NULLABLE'),\n",
    "           bigquery.SchemaField('callsign', 'STRING', mode='NULLABLE'),\n",
    "           bigquery.SchemaField('country', 'STRING', mode='NULLABLE')\n",
    "       ]\n",
    "   },\t 'airports_d': {\n",
    "       'table_name': 'airports_d',\n",
    "       'schema': [\n",
    "           bigquery.SchemaField('airport_id', 'STRING', mode='REQUIRED'),\n",
    "           bigquery.SchemaField('name', 'string', mode='REQUIRED'),\n",
    "           bigquery.SchemaField('city', 'float', mode='NULLABLE'),\n",
    "           bigquery.SchemaField('country', 'float', mode='NULLABLE'),\n",
    "           bigquery.SchemaField('icao', 'float', mode='NULLABLE'),\n",
    "           bigquery.SchemaField('latitude', 'float', mode='NULLABLE'),\n",
    "           bigquery.SchemaField('longitude', 'float', mode='NULLABLE'),\n",
    "           bigquery.SchemaField('altitude', 'float', mode='NULLABLE'),\n",
    "           bigquery.SchemaField('tz_timezone', 'float', mode='NULLABLE'),\n",
    "       ]\n",
    "   }\n",
    "}\n",
    " \n",
    "# **** BIGQUERY CLIENT ****\n",
    "client = bigquery.Client()\n",
    "\n",
    "# **** CREATE DATASET (IF NEEDED) ****\n",
    "dataset_id = f\"{PROJECT_NAME}.{DATASET_NAME}\"\n",
    "dataset = bigquery.Dataset(dataset_id)\n",
    "dataset.location = \"US\"\n",
    "dataset = client.create_dataset(dataset, exists_ok=True)\n"
   ]
  }
 ],
 "metadata": {
  "kernelspec": {
   "display_name": "venv",
   "language": "python",
   "name": "python3"
  },
  "language_info": {
   "name": "python",
   "version": "3.7.16 (default, Dec  7 2022, 01:12:33) \n[GCC 11.3.0]"
  },
  "orig_nbformat": 4,
  "vscode": {
   "interpreter": {
    "hash": "0eb925e235345ffe75b6938749d5e2df8d24cab43adbaf1e5ac7fd251492b6fd"
   }
  }
 },
 "nbformat": 4,
 "nbformat_minor": 2
}
